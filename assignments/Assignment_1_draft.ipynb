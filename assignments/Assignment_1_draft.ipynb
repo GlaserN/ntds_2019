{
 "cells": [
  {
   "cell_type": "markdown",
   "metadata": {},
   "source": [
    "# NTDS 2019 : Assignment 1\n"
   ]
  },
  {
   "cell_type": "markdown",
   "metadata": {},
   "source": [
    "[Eda Bayram,](https://lts4.epfl.ch/bayram) [EPFL](http://epfl.ch) [LTS4,](http://lts4.epfl.ch)\n",
    "Nikolaos Karalias, [EPFL](http://epfl.ch) [LTS2](http://lts2.epfl.ch)"
   ]
  },
  {
   "cell_type": "markdown",
   "metadata": {},
   "source": [
    "## Students\n",
    "Team: `<your team number>`"
   ]
  },
  {
   "cell_type": "markdown",
   "metadata": {},
   "source": [
    "## Rules\n",
    "\n",
    "* The first deadline is for individual submission, the second one is for the team submission. No collaboration between teams is allowed.\n",
    "* All team members will receive the same grade for the assignment regarding the solution they submit on the latter deadline.\n",
    "* However, a team can is allowed to ask for individual grading, which will regard the solution submitted on the former deadline.\n",
    "* Textual answers shall be short. Typically one to two sentences.\n",
    "* Code has to be clean.\n",
    "* In the first and second section, the libraries to be used are given and you cannot import any other library than those. You cannot use Networkx in the first section.\n",
    "* When submitting, the notebook is executed and the results are stored. I.e., if you open the notebook again it should show numerical results and plots. We won't be able to execute your notebooks.\n",
    "* The notebook is re-executed from a blank state before submission. That is to be sure it is reproducible. You can click \"Kernel\" then \"Restart & Run All\" in Jupyter."
   ]
  },
  {
   "cell_type": "markdown",
   "metadata": {},
   "source": [
    "# Objective "
   ]
  },
  {
   "cell_type": "markdown",
   "metadata": {},
   "source": [
    "The purpose of this milestone is to explore a given dataset, represent it by network by constructing different graphs. In the first section, you will analyze the network properties. In the second section, you will explore various network models and find out the network model fitting the ones you construct from the dataset."
   ]
  },
  {
   "cell_type": "markdown",
   "metadata": {},
   "source": [
    "# Dataset : Cora Dataset\n",
    "\n",
    "The [Cora dataset](https://linqs-data.soe.ucsc.edu/public/lbc/cora.tgz) consists of scientific publications classified into one of seven classes. \n",
    "\n",
    "* **Citation graph** The citation network is constructed from the connections given in `cora.cites` file. \n",
    "* **Feature graph** Each publication in the dataset is described by a 0/1-valued word vector indicating the absence/presence of the corresponding word from the dictionary, given in `cora.content` file. The dictionary consists of 1433 unique words. A feature graph is contructed regarding the Euclidean distance between the feature vector of the publications.\n",
    "\n",
    "The `README` file in the dataset provides the details about the content of the files. "
   ]
  },
  {
   "cell_type": "markdown",
   "metadata": {},
   "source": [
    "# Section 1 : Network Properties"
   ]
  },
  {
   "cell_type": "code",
   "execution_count": 24,
   "metadata": {},
   "outputs": [],
   "source": [
    "import numpy as np\n",
    "import pandas as pd\n",
    "import matplotlib.pyplot as plt\n",
    "\n",
    "%matplotlib inline"
   ]
  },
  {
   "cell_type": "markdown",
   "metadata": {},
   "source": [
    "### Question  : Construct a Citation Graph and a Feature Graph"
   ]
  },
  {
   "cell_type": "markdown",
   "metadata": {},
   "source": [
    "Add path to files below. The key points of the answers in this solution work for all the communities. The specific numbers provided in some of the answers are just for the \"Rule_Learning\" community to provide a concrete example."
   ]
  },
  {
   "cell_type": "code",
   "execution_count": 25,
   "metadata": {},
   "outputs": [
    {
     "name": "stdout",
     "output_type": "stream",
     "text": [
      "/home/aspect/LocalSolution/cora\n"
     ]
    }
   ],
   "source": [
    "cd /home/aspect/LocalSolution/cora"
   ]
  },
  {
   "cell_type": "markdown",
   "metadata": {},
   "source": [
    "Q: Read the cora.content file and print out the seven different fields of study in which the papers belong to.\n",
    "Print out the number of papers contained in each of those fields in the dataset."
   ]
  },
  {
   "cell_type": "code",
   "execution_count": 26,
   "metadata": {},
   "outputs": [
    {
     "name": "stdout",
     "output_type": "stream",
     "text": [
      "Field of study:  Rule_Learning\n",
      "There are 180 papers in the field of Rule_Learning.\n",
      "Field of study:  Reinforcement_Learning\n",
      "There are 217 papers in the field of Reinforcement_Learning.\n",
      "Field of study:  Probabilistic_Methods\n",
      "There are 426 papers in the field of Probabilistic_Methods.\n",
      "Field of study:  Theory\n",
      "There are 351 papers in the field of Theory.\n",
      "Field of study:  Neural_Networks\n",
      "There are 817 papers in the field of Neural_Networks.\n",
      "Field of study:  Genetic_Algorithms\n",
      "There are 418 papers in the field of Genetic_Algorithms.\n",
      "Field of study:  Case_Based\n",
      "There are 298 papers in the field of Case_Based.\n"
     ]
    }
   ],
   "source": [
    "table = pd.read_csv(\"cora.content\", delimiter =\"\\t\")\n",
    "fields_of_study = table[\"Neural_Networks\"].unique()\n",
    "\n",
    "\n",
    "for field in fields_of_study:\n",
    "    print(\"Field of study: \", field)\n",
    "    print(\"There are {} papers in the field of \".format((table[table.Neural_Networks == field].shape[0])) + field +\".\")\n",
    "        \n"
   ]
  },
  {
   "cell_type": "markdown",
   "metadata": {},
   "source": [
    "Q: Select all papers from a field of your choice (\"Reinforcement Learning\", \"Theory\", etc.) and extract their feature vectors. Construct a distance matrix  $D_{ij} = d(i,j)$, where $d(i,j)$ denotes the Euclidean distance between feature vectors of papers $i$ and $j$.\n",
    "Additionally, store the IDs of the selected papers in a variable as they will be required later."
   ]
  },
  {
   "cell_type": "code",
   "execution_count": 27,
   "metadata": {},
   "outputs": [],
   "source": [
    "#read table, select community, transfer to numpy\n",
    "my_field = \"Rule_Learning\"\n",
    "numpy_community = table.loc[table['Neural_Networks']==my_field].to_numpy().squeeze()\n",
    "\n",
    "#node_ids\n",
    "community_keys = numpy_community[:,0]\n",
    "\n",
    "#keep the features\n",
    "community = np.delete(numpy_community, [0,1434], axis=1).astype(float)\n",
    "\n",
    "#compute pairwise euclidean dist matrix\n",
    "one = np.ones(community.shape[0])\n",
    "ker = np.matmul(community, community.T)\n",
    "diagonal = np.diag(ker)\n",
    "edm = np.sqrt(np.outer(diagonal, one) - 2*ker + np.outer(one,diagonal))"
   ]
  },
  {
   "cell_type": "markdown",
   "metadata": {},
   "source": [
    "Q: Plot the histogram of the euclidean distances. Calculate the mean distance $ \\mathbb{E}[D]$ and print out its value.\n",
    "\n"
   ]
  },
  {
   "cell_type": "code",
   "execution_count": 28,
   "metadata": {},
   "outputs": [
    {
     "name": "stdout",
     "output_type": "stream",
     "text": [
      "The mean euclidean distance between papers is:  5.822492039380866\n"
     ]
    },
    {
     "data": {
      "image/png": "[encoded data removed]",
      "text/plain": [
       "<Figure size 1152x648 with 1 Axes>"
      ]
     },
     "metadata": {
      "needs_background": "light"
     },
     "output_type": "display_data"
    }
   ],
   "source": [
    "mean_distance = edm.mean()\n",
    "\n",
    "print(\"The mean euclidean distance between papers is: \", mean_distance)\n",
    "\n",
    "plt.figure(1, figsize=(16,9))\n",
    "plt.title(\"Histogram of euclidean distances between papers\")\n",
    "plt.hist(edm.reshape(-1));"
   ]
  },
  {
   "cell_type": "markdown",
   "metadata": {},
   "source": [
    "Q: Now create an adjacency matrix for the papers by thresholding the euclidean distance matrix.\n",
    "The resulting (unweighted) adjacency matrix should have entries: $ A_{ij} = \\begin{cases} 1, \\; \\text{if} \\; d(i,j)< \\mathbb{E}[D], \\; i \\neq j \\\\ 0, \\; \\text{otherwise.} \\end{cases}$ "
   ]
  },
  {
   "cell_type": "code",
   "execution_count": 29,
   "metadata": {},
   "outputs": [],
   "source": [
    "#Thresholding the distance matrix using the mean value\n",
    "thresh = edm.mean()\n",
    "A_feature = (edm < thresh).astype(float) - np.eye(edm.shape[0]) # Your code here."
   ]
  },
  {
   "cell_type": "markdown",
   "metadata": {},
   "source": [
    "Q: From the cora.cites file, construct the citation graph by converting the edge index data into an adjacency matrix. "
   ]
  },
  {
   "cell_type": "code",
   "execution_count": 30,
   "metadata": {},
   "outputs": [],
   "source": [
    "cora_cites = np.genfromtxt('cora.cites', delimiter='\\t')\n",
    "#get graph edges and flatten them for processing\n",
    "edges = cora_cites.astype(int)\n",
    "edges = edges.flatten()\n",
    "\n",
    "\n",
    "#get adjacency matrix from edge_list\n",
    "newedge = pd.factorize(edges)[0]\n",
    "new_edge_list = newedge.reshape(-1,2)\n",
    "dim = max(newedge) + 1\n",
    "adjmat = np.zeros((dim,dim))\n",
    "adjmat[new_edge_list[:,0],new_edge_list[:,1]] = 1\n",
    "\n",
    "#caution, matrix is not symmetric at this point \n",
    "A_citation = adjmat"
   ]
  },
  {
   "cell_type": "markdown",
   "metadata": {},
   "source": [
    "Q: Get the adjacency matrix of the citation graph in the field that you chose earlier. You have to appropriately reduce the adjacency matrix of the citation graph. Symmetrize your final adjacency matrix if it's not already symmetric."
   ]
  },
  {
   "cell_type": "code",
   "execution_count": 31,
   "metadata": {},
   "outputs": [],
   "source": [
    "#map the paper ids from the selected community to the relabeled ones\n",
    "nodemap = dict(zip(edges, newedge))\n",
    "\n",
    "community_nodes = [nodemap[i] for i in community_keys]\n",
    "\n",
    "community_adj = A_citation[community_nodes,:]\n",
    "community_adj = community_adj[:,community_nodes]\n",
    "\n",
    "#symmetrize\n",
    "A_citation = community_adj + community_adj.T"
   ]
  },
  {
   "cell_type": "markdown",
   "metadata": {},
   "source": [
    "### Question: Degree Distribution and Moments\n"
   ]
  },
  {
   "cell_type": "markdown",
   "metadata": {},
   "source": [
    "Q: What is the total number of edges in each graph?"
   ]
  },
  {
   "cell_type": "code",
   "execution_count": 32,
   "metadata": {},
   "outputs": [
    {
     "name": "stdout",
     "output_type": "stream",
     "text": [
      "Number of edges in the feature graph:  5829.0\n",
      "Number of edges in the citation graph:  255.0\n"
     ]
    }
   ],
   "source": [
    "num_edges_feature = A_feature.sum()/2\n",
    "num_edges_citation = A_citation.sum()/2\n",
    "print(\"Number of edges in the feature graph: \", num_edges_feature)\n",
    "print(\"Number of edges in the citation graph: \", num_edges_citation)"
   ]
  },
  {
   "cell_type": "markdown",
   "metadata": {},
   "source": [
    "Q: Plot the degree distribution histogram for each of the graphs."
   ]
  },
  {
   "cell_type": "code",
   "execution_count": 33,
   "metadata": {},
   "outputs": [
    {
     "data": {
      "image/png": "[encoded data removed]",
      "text/plain": [
       "<Figure size 1152x648 with 2 Axes>"
      ]
     },
     "metadata": {
      "needs_background": "light"
     },
     "output_type": "display_data"
    }
   ],
   "source": [
    "degrees_citation = A_citation.sum(1)\n",
    "degrees_feature = A_feature.sum(1)\n",
    "\n",
    "deg_hist_normalization = np.ones(degrees_citation.shape[0])/degrees_citation.shape[0]\n",
    "\n",
    "plt.figure(figsize=(16,9))\n",
    "plt.subplot(131)\n",
    "plt.title('Citation graph degree distribution')\n",
    "plt.hist(degrees_citation, weights = deg_hist_normalization);\n",
    "plt.subplot(132)\n",
    "plt.title('Feature graph degree distribution')\n",
    "plt.hist(degrees_feature, weights = deg_hist_normalization);\n"
   ]
  },
  {
   "cell_type": "markdown",
   "metadata": {},
   "source": [
    "Q: Calculate the first and second moments of each graph. What information do the moments provide you about the graphs?\n",
    "Explain the differences in moments between graphs by comparing their degree distributions."
   ]
  },
  {
   "cell_type": "code",
   "execution_count": 34,
   "metadata": {},
   "outputs": [
    {
     "name": "stdout",
     "output_type": "stream",
     "text": [
      "1st moment of citation graph:  2.8333333333333335\n",
      "2nd moment of citation graph:  15.455555555555556\n",
      "1st moment of feature graph:  64.76666666666667\n",
      "2nd moment of feature graph:  6183.166666666666\n"
     ]
    }
   ],
   "source": [
    "degfs, counts_feat = np.unique(degrees_feature,return_counts=True)\n",
    "degcs, counts_cit = np.unique(degrees_citation,return_counts=True)\n",
    "\n",
    "\n",
    "degfeatprobs = counts_feat/counts_feat.sum()\n",
    "degcitprobs = counts_cit/counts_cit.sum()\n",
    "\n",
    "cit_moment_1 = (degcs*degcitprobs).sum()\n",
    "cit_moment_2 = (degcs*degcs*degcitprobs).sum()\n",
    "\n",
    "feat_moment_1 = (degfs*degfeatprobs).sum()\n",
    "feat_moment_2 = (degfs*degfs*degfeatprobs).sum()\n",
    "\n",
    "print(\"1st moment of citation graph: \", (cit_moment_1))\n",
    "print(\"2nd moment of citation graph: \", (cit_moment_2))\n",
    "print(\"1st moment of feature graph: \", (feat_moment_1))\n",
    "print(\"2nd moment of feature graph: \", (feat_moment_2))\n"
   ]
  },
  {
   "cell_type": "markdown",
   "metadata": {},
   "source": [
    "**Your answer here:** \n",
    "The first moment of the graph gives us the average degree.\n",
    "The second moment gives us the variance of the degree distribution.\n",
    "\n",
    "The citation graph is significantly sparser (recall the number of edges from the previous step). This leads to a sharp spike at low/zero degree nodes and therefore explains the value of the first moment for that graph compared to the second.\n",
    "\n",
    "For the feature graph we observe from the degree histogram that the tails of the distribution carry a considerable amount of probability density. Notice for example how degree 175 appears more likely than degree 100 even though it's much further from the mean.\n",
    "This explains the large variance of the second moment and why it is so much larger than the variance of the citation graph which has a much thinner tail."
   ]
  },
  {
   "cell_type": "markdown",
   "metadata": {},
   "source": [
    "Q: Select the 20 largest hubs for each of the graphs and remove them. Plot the new degree distribution histograms."
   ]
  },
  {
   "cell_type": "code",
   "execution_count": 35,
   "metadata": {
    "scrolled": false
   },
   "outputs": [
    {
     "data": {
      "image/png": "[encoded data removed]",
      "text/plain": [
       "<Figure size 1152x648 with 2 Axes>"
      ]
     },
     "metadata": {
      "needs_background": "light"
     },
     "output_type": "display_data"
    },
    {
     "data": {
      "image/png": "[encoded data removed]",
      "text/plain": [
       "<Figure size 1152x648 with 2 Axes>"
      ]
     },
     "metadata": {
      "needs_background": "light"
     },
     "output_type": "display_data"
    },
    {
     "data": {
      "image/png": "[encoded data removed]",
      "text/plain": [
       "<Figure size 1152x648 with 2 Axes>"
      ]
     },
     "metadata": {
      "needs_background": "light"
     },
     "output_type": "display_data"
    }
   ],
   "source": [
    "#get degrees of the new unordered one\n",
    "removed_feat = np.argsort(degrees_feature)[:-20]\n",
    "removed_cite = np.argsort(degrees_citation)[:-20]\n",
    "\n",
    "reduced_A_feature = A_feature[removed_feat,:]\n",
    "reduced_A_feature = reduced_A_feature[:,removed_feat]\n",
    "\n",
    "reduced_A_citation = A_citation[removed_cite,:]\n",
    "reduced_A_citation = reduced_A_citation[:, removed_cite]\n",
    "\n",
    "\n",
    "plt.figure(1, figsize=(16,9))\n",
    "a=plt.subplot(121)\n",
    "plt.title('Feature graph: adjacency matrix sparsity pattern')\n",
    "plt.spy(A_feature)\n",
    "b=plt.subplot(122)\n",
    "plt.title('Feature graph without top 20 hubs: adjacency matrix sparsity pattern')\n",
    "plt.spy(reduced_A_feature)\n",
    "\n",
    "\n",
    "plt.figure(2, figsize=(16,9))\n",
    "a=plt.subplot(121)\n",
    "plt.title('Citation graph: Adjacency matrix sparsity pattern')\n",
    "plt.spy(A_citation)\n",
    "b=plt.subplot(122)\n",
    "plt.title('Citation graph without top 20 hubs: Adjacency matrix sparsity pattern')\n",
    "plt.spy(reduced_A_citation)\n",
    "\n",
    "\n",
    "\n",
    "reduced_degrees_feat = reduced_A_feature.sum(1)\n",
    "reduced_degrees_cit = reduced_A_citation.sum(1)\n",
    "\n",
    "deg_hist_normalization = np.ones(reduced_degrees_feat.shape[0])/reduced_degrees_feat.shape[0]\n",
    "\n",
    "plt.figure(3,figsize=(16,9))\n",
    "plt.subplot(121)\n",
    "plt.title('Feature graph degree distribution')\n",
    "plt.hist(reduced_degrees_feat, weights = deg_hist_normalization)\n",
    "plt.subplot(122)\n",
    "plt.title('Citation graph degree distribution')\n",
    "plt.hist(reduced_degrees_cit, weights = deg_hist_normalization)\n",
    "\n",
    "\n",
    "\n",
    "\n",
    "new_A_citation = reduced_A_citation\n",
    "new_A_feature = reduced_A_feature \n",
    "\n",
    "new_degrees_citation =  reduced_degrees_cit \n",
    "new_degrees_feature = reduced_degrees_feat \n",
    "\n",
    "\n",
    "\n"
   ]
  },
  {
   "cell_type": "markdown",
   "metadata": {},
   "source": [
    "Q: Compute the first and second moments for the new graphs.\n",
    "Is the effect of removing the hubs the same for both networks? Look at the percentage changes for each moment. Which of the moments is affected the most and in which graph? Explain why.  *Hint: Examine the degree distributions.*"
   ]
  },
  {
   "cell_type": "code",
   "execution_count": 36,
   "metadata": {},
   "outputs": [
    {
     "name": "stdout",
     "output_type": "stream",
     "text": [
      "Citation graph first moment: 1.4124999999999999\n",
      "Citation graph second moment: 2.9875000000000003\n",
      "Feature graph first moment:  34.1875\n",
      "Feature graph second moment:  1870.2124999999999\n",
      "Feat graph edges 2735.0\n",
      "Citation graph edges 113.0\n"
     ]
    }
   ],
   "source": [
    "reduced_degfs, reduced_counts_feat = np.unique(reduced_degrees_feat,return_counts=True)\n",
    "reduced_degns, reduced_counts_net = np.unique(reduced_degrees_cit,return_counts=True)\n",
    "\n",
    "\n",
    "reduced_degfeatprobs = reduced_counts_feat/reduced_counts_feat.sum()\n",
    "reduced_degnetprobs = reduced_counts_net/reduced_counts_net.sum()\n",
    "\n",
    "\n",
    "#Calculate the 1st and 2nd moments of each graph. Explain the differences.\n",
    "\n",
    "\n",
    "reduced_cit_moment_1 = (reduced_degns*reduced_degnetprobs).sum()\n",
    "reduced_cit_moment_2 = (reduced_degns*reduced_degns*reduced_degnetprobs).sum()\n",
    "\n",
    "reduced_feat_moment_1 = (reduced_degfs*reduced_degfeatprobs).sum()\n",
    "reduced_feat_moment_2 = (reduced_degfs*reduced_degfs*reduced_degfeatprobs).sum()\n",
    "\n",
    "\n",
    "print(\"Citation graph first moment:\", reduced_cit_moment_1)\n",
    "print(\"Citation graph second moment:\", reduced_cit_moment_2)\n",
    "print(\"Feature graph first moment: \", reduced_feat_moment_1)\n",
    "print(\"Feature graph second moment: \", reduced_feat_moment_2)\n",
    "\n",
    "print(\"Feat graph edges\", reduced_A_feature.sum()/2)\n",
    "print(\"Citation graph edges\", reduced_A_citation.sum()/2)\n"
   ]
  },
  {
   "cell_type": "markdown",
   "metadata": {},
   "source": [
    "**Your answer here:** While the 1st moment is shifted to roughly half of its original value in both cases, the variance of the citation graph seems to be the one most significantly affected. \n",
    "\n",
    "Before removing the hubs the highest degree was around 25, with an average degree of 2.833. After removing the hubs the highest degree is around 4 with an average degree 1.412. For the feature graph, the highest degree was around 175 with an average of 64.766. Now the average degree is 34.1875 and the highest degree around 100 with a quite high probability as well. \n",
    "\n",
    "The shrinking of the citation graph 2nd moment can be attributed to the fact that its degree distribution is thin-tailed. Thus, the effect of removing hubs becomes more pronounced there. "
   ]
  },
  {
   "cell_type": "markdown",
   "metadata": {},
   "source": [
    "### Question: Pruning, sparsity,  paths\n",
    "\n"
   ]
  },
  {
   "cell_type": "markdown",
   "metadata": {},
   "source": [
    "\n",
    "Plot the sparsity pattern of the original citation and  feature graphs for your chosen community. \n",
    "Why is the feature graph more dense?"
   ]
  },
  {
   "cell_type": "code",
   "execution_count": 37,
   "metadata": {},
   "outputs": [
    {
     "data": {
      "image/png": "[encoded data removed]",
      "text/plain": [
       "<Figure size 1152x648 with 2 Axes>"
      ]
     },
     "metadata": {
      "needs_background": "light"
     },
     "output_type": "display_data"
    }
   ],
   "source": [
    "plt.figure(figsize=(16,9))\n",
    "plt.subplot(121)\n",
    "plt.title('Citation graph sparsity')\n",
    "plt.spy(A_citation);\n",
    "plt.subplot(122)\n",
    "plt.title('Feature graph sparsity')\n",
    "plt.spy(A_feature);"
   ]
  },
  {
   "cell_type": "markdown",
   "metadata": {},
   "source": [
    "**Your answer here:** The feature graph was created by thresholding a euclidean distance matrix using the mean distance as a threshold. Looking at the distribution of pairwise distances and considering the value of the average distance, it is natural to expect that the feature matrix will have more edges as a significant percentage of distances will result in an edge. "
   ]
  },
  {
   "cell_type": "markdown",
   "metadata": {},
   "source": [
    "Q: By adjusting the threshold of the euclidean distance matrix, prune the feature graph so that its number of edges is roughly close (within a hundred edges) to the number of edges in the citation graph.\n",
    "Check your results by comparing the sparsity patterns and total number of edges between the graphs.\n",
    "\n"
   ]
  },
  {
   "cell_type": "code",
   "execution_count": 38,
   "metadata": {},
   "outputs": [
    {
     "name": "stdout",
     "output_type": "stream",
     "text": [
      "Current threshold:  3.5\n",
      "Number of edges in the feature graph:  5829.0\n",
      "Number of edges in the feature graph after pruning:  75.0\n",
      "Number of edges in the citation graph:  255.0\n"
     ]
    },
    {
     "data": {
      "image/png": "[encoded data removed]",
      "text/plain": [
       "<Figure size 864x432 with 2 Axes>"
      ]
     },
     "metadata": {
      "needs_background": "light"
     },
     "output_type": "display_data"
    }
   ],
   "source": [
    "threshold = 3.5\n",
    "\n",
    "A_feature_pruned = (edm < threshold).astype(float) -np.eye(edm.shape[0])\n",
    "\n",
    "A_feat_edges = A_feature.sum()/2\n",
    "A_featpruned_edges = A_feature_pruned .sum()/2  # Your code here.\n",
    "\n",
    "plt.figure(figsize=(12,6))\n",
    "plt.subplot(121)\n",
    "plt.title('Citation graph sparsity')\n",
    "plt.spy(A_citation);\n",
    "plt.subplot(122)\n",
    "plt.title('Feature graph sparsity')\n",
    "plt.spy(A_feature_pruned);\n",
    "\n",
    "print(\"Current threshold: \", threshold)\n",
    "\n",
    "print(\"Number of edges in the feature graph: \", (A_feat_edges))\n",
    "print(\"Number of edges in the feature graph after pruning: \", (A_featpruned_edges))\n",
    "print(\"Number of edges in the citation graph: \", num_edges_citation)"
   ]
  },
  {
   "cell_type": "markdown",
   "metadata": {},
   "source": [
    "Let $C_{k}(i,j)$ denote the number of paths of length $k$ from node $i$ to node $j$. \n",
    "\n",
    "We define the path matrix $P$, with entries:\n",
    "$ P_{ij} = \\displaystyle\\sum_{k=0}^{N}C_{k}(i,j) $\n",
    "\n",
    "Q: Calculate the path matrices for both the citation and the unpruned feature graphs. \n",
    "Examine the sparsity pattern for both of those matrices. [Hint](https://en.wikipedia.org/wiki/Adjacency_matrix#Matrix_powers) "
   ]
  },
  {
   "cell_type": "code",
   "execution_count": 39,
   "metadata": {},
   "outputs": [
    {
     "data": {
      "image/png": "[encoded data removed]",
      "text/plain": [
       "<Figure size 1152x648 with 2 Axes>"
      ]
     },
     "metadata": {
      "needs_background": "light"
     },
     "output_type": "display_data"
    }
   ],
   "source": [
    "#total number of paths up to length 10 between all pairs of nodes\n",
    "path_lengths = range(11)\n",
    "\n",
    "\n",
    "path_matrix_citation = sum([np.linalg.matrix_power(A_citation, k) for k in path_lengths])\n",
    "path_matrix_feature = sum([np.linalg.matrix_power(A_feature, k) for k in path_lengths]) # Your code here.\n",
    "\n",
    "\n",
    "plt.figure(figsize=(16,9))\n",
    "plt.subplot(121)\n",
    "plt.title('Citation Path matrix sparsity')\n",
    "plt.spy(path_matrix_citation);\n",
    "plt.subplot(122)\n",
    "plt.title('Feature Path matrix sparsity')\n",
    "plt.spy(path_matrix_feature);"
   ]
  },
  {
   "cell_type": "markdown",
   "metadata": {},
   "source": [
    "Q: Now do the same for the pruned graph. Plot the corresponding sparsity pattern. Is there any difference?"
   ]
  },
  {
   "cell_type": "code",
   "execution_count": 40,
   "metadata": {},
   "outputs": [
    {
     "data": {
      "image/png": "[encoded data removed]",
      "text/plain": [
       "<Figure size 864x432 with 1 Axes>"
      ]
     },
     "metadata": {
      "needs_background": "light"
     },
     "output_type": "display_data"
    }
   ],
   "source": [
    "path_matrix_Afeat_pruned = sum([np.linalg.matrix_power(A_feature_pruned, k) for k in path_lengths])\n",
    "\n",
    "plt.figure(figsize=(12,6))\n",
    "plt.title('Feature Path matrix sparsity')\n",
    "plt.spy(path_matrix_Afeat_pruned);\n"
   ]
  },
  {
   "cell_type": "markdown",
   "metadata": {},
   "source": [
    "**Your answer here:** Yes, the path matrix for the unpruned graph doesn't have zero entries while the one for the pruned graph does."
   ]
  },
  {
   "cell_type": "markdown",
   "metadata": {},
   "source": [
    "Q: Describe how you can use the above process of counting paths to determine whether a graph is connected or not. Is the original (unpruned) graph connected?"
   ]
  },
  {
   "cell_type": "markdown",
   "metadata": {},
   "source": [
    "**Your answer here:** The maximum hop distance between any two nodes in a graph can be on the order of the number of nodes. The [path graph](https://en.wikipedia.org/wiki/Path_graph) is the worst case where one has to traverse all the nodes to get from one endpoint node to the other. By calculating the path matrix for all lengths up to N, where N is the total number of nodes, one expects all the matrix entries to be nonzero, since there will be at least 1 path from all nodes to all other nodes. However, if the graph is not connected, then the path matrix will have zero entries since a subset of nodes will be unreachable by other nodes regardless of the path lengths we consider.\n",
    "Since the path matrix for the unpruned graph has no zero entries it means that the graph is connected."
   ]
  },
  {
   "cell_type": "markdown",
   "metadata": {},
   "source": [
    "Q: If the graph is connected, how can you guess its diameter using the path matrix? If any of your graphs is connected, calculate the diameter using that process. You can check if your guess was correct using [networkx](https://networkx.github.io/documentation/networkx-1.10/reference/generated/networkx.algorithms.distance_measures.diameter.html)."
   ]
  },
  {
   "cell_type": "markdown",
   "metadata": {},
   "source": [
    "**Your answer here:** You can guess the diameter by finding the path length k at which the path matrix has no zero entries for the first time. Up until that point there will be an entry (i,j) where no paths from i to j exist because the length of paths considered hasn't reached the diameter."
   ]
  },
  {
   "cell_type": "code",
   "execution_count": 41,
   "metadata": {},
   "outputs": [
    {
     "name": "stdout",
     "output_type": "stream",
     "text": [
      "The diameter is:  2\n",
      "Diameter according to networkx:  2\n"
     ]
    }
   ],
   "source": [
    "from networkx import nx\n",
    "path_matrix = np.zeros((A_feature.shape[0],A_feature.shape[0]))\n",
    "for k in range(11):\n",
    "    path_matrix += np.linalg.matrix_power(A_feature, k)\n",
    "    if (path_matrix==0).sum()==0:\n",
    "        print(\"The diameter is: \", k)\n",
    "        break\n",
    "\n",
    "    \n",
    "feature_graph = nx.from_numpy_matrix(A_feature)\n",
    "print(\"Diameter according to networkx: \", nx.diameter(feature_graph))\n",
    "    "
   ]
  },
  {
   "cell_type": "code",
   "execution_count": null,
   "metadata": {},
   "outputs": [],
   "source": []
  },
  {
   "cell_type": "markdown",
   "metadata": {},
   "source": [
    "# Section 2 : Network Models"
   ]
  },
  {
   "cell_type": "markdown",
   "metadata": {},
   "source": [
    "In this section, you will analyze the feature graph and citation graph you constructed in the previous section in terms of the network model types. For this purpose, you can use NetworkX libary imported below."
   ]
  },
  {
   "cell_type": "code",
   "execution_count": null,
   "metadata": {},
   "outputs": [],
   "source": [
    "import networkx as nx\n",
    "import warnings\n",
    "warnings.simplefilter(\"ignore\")"
   ]
  },
  {
   "cell_type": "markdown",
   "metadata": {},
   "source": [
    "Let us create NetworkX graph objects from the adjacency matrices computed in the previous section."
   ]
  },
  {
   "cell_type": "code",
   "execution_count": null,
   "metadata": {},
   "outputs": [],
   "source": [
    "G_citation = nx.from_numpy_matrix(A_citation)\n",
    "print('Number of nodes: {}, Number of edges: {}'. format(G_citation.number_of_nodes(), G_citation.number_of_edges()))\n",
    "print('Number of self-loops: {}, Number of connected components: {}'. format(G_citation.number_of_selfloops(), nx.number_connected_components(G_citation)))"
   ]
  },
  {
   "cell_type": "code",
   "execution_count": null,
   "metadata": {},
   "outputs": [],
   "source": [
    "G_feature = nx.from_numpy_matrix(A_feature)\n",
    "print('Number of nodes: {}, Number of edges: {}'. format(G_feature.number_of_nodes(), G_feature.number_of_edges()))\n",
    "print('Number of self-loops: {}, Number of connected components: {}'. format(G_feature.number_of_selfloops(), nx.number_connected_components(G_feature)))"
   ]
  },
  {
   "cell_type": "markdown",
   "metadata": {},
   "source": [
    "### Question : Simulation with Erdős–Rényi and Barabási–Albert model"
   ]
  },
  {
   "cell_type": "markdown",
   "metadata": {},
   "source": [
    "Create an Erdős–Rényi and Barabási–Albert graph using NetworkX to simulate the citation graph and the feature graph you have. When choosing parameters for the networks, take into account the number of vertices and edges of the original networks."
   ]
  },
  {
   "cell_type": "markdown",
   "metadata": {},
   "source": [
    "The number of nodes should exactly match the number of nodes in the original citation/feature graph."
   ]
  },
  {
   "cell_type": "code",
   "execution_count": null,
   "metadata": {},
   "outputs": [],
   "source": [
    "n = len(G_citation.nodes())\n",
    "n"
   ]
  },
  {
   "cell_type": "markdown",
   "metadata": {},
   "source": [
    "The number of match shall fit the average of the number of edges in the citation and the feature graph."
   ]
  },
  {
   "cell_type": "code",
   "execution_count": null,
   "metadata": {},
   "outputs": [],
   "source": [
    "m = (G_citation.size() + G_feature.size())/2\n",
    "m"
   ]
  },
  {
   "cell_type": "markdown",
   "metadata": {},
   "source": [
    "How do you determine the probability parameter for the Erdős–Rényi graph?"
   ]
  },
  {
   "cell_type": "markdown",
   "metadata": {},
   "source": [
    "**Your answer here:**"
   ]
  },
  {
   "cell_type": "code",
   "execution_count": null,
   "metadata": {},
   "outputs": [],
   "source": [
    "p = # Your code here.\n",
    "G_er = nx.erdos_renyi_graph(n,p)"
   ]
  },
  {
   "cell_type": "markdown",
   "metadata": {},
   "source": [
    "Check the number of edges in the Erdős–Rényi graph."
   ]
  },
  {
   "cell_type": "code",
   "execution_count": null,
   "metadata": {},
   "outputs": [],
   "source": [
    "print('My Erdos-Rényi network to simulate citation graph has {} edges.'.format(G_er.size()))"
   ]
  },
  {
   "cell_type": "markdown",
   "metadata": {},
   "source": [
    "How do you determine the preferential attachement parameter for Barabási–Albert graphs?"
   ]
  },
  {
   "cell_type": "markdown",
   "metadata": {},
   "source": [
    "**Your answer here:**"
   ]
  },
  {
   "cell_type": "code",
   "execution_count": null,
   "metadata": {},
   "outputs": [],
   "source": [
    "q = # Your code here.\n",
    "G_ba = nx.barabasi_albert_graph(n,q)"
   ]
  },
  {
   "cell_type": "markdown",
   "metadata": {},
   "source": [
    "Check the number of edges in the Barabási–Albert graph."
   ]
  },
  {
   "cell_type": "code",
   "execution_count": null,
   "metadata": {},
   "outputs": [],
   "source": [
    "print('My Barabási-Albert network to simulate citation graph has {} edges.'.format(G_ba.size()))"
   ]
  },
  {
   "cell_type": "markdown",
   "metadata": {},
   "source": [
    "### Question :  Giant component"
   ]
  },
  {
   "cell_type": "markdown",
   "metadata": {},
   "source": [
    "Check the size of the largest connected component in the citation and feature graph."
   ]
  },
  {
   "cell_type": "code",
   "execution_count": null,
   "metadata": {},
   "outputs": [],
   "source": [
    "giant_citation = # Your code here.\n",
    "print('The giant component of the citation graph has {} nodes and {} edges.'.format(giant_citation.number_of_nodes(), giant_citation.size()))"
   ]
  },
  {
   "cell_type": "code",
   "execution_count": null,
   "metadata": {},
   "outputs": [],
   "source": [
    "giant_feature = # Your code here.\n",
    "print('The giant component of the feature graph has {} nodes and {} edges.'.format(giant_feature.number_of_nodes(), giant_feature.size()))"
   ]
  },
  {
   "cell_type": "markdown",
   "metadata": {},
   "source": [
    "Check the size of the giant components in the generated Erdős–Rényi graph."
   ]
  },
  {
   "cell_type": "code",
   "execution_count": null,
   "metadata": {},
   "outputs": [],
   "source": [
    "giant_er = # Your code here.\n",
    "print('The giant component of the Erdos-Rényi network has {} nodes and {} edges.'.format(giant_er.number_of_nodes(), giant_er.size()))"
   ]
  },
  {
   "cell_type": "markdown",
   "metadata": {},
   "source": [
    "Let us match the number of nodes in the giant component of the feature graph by simulating a new Erdős–Rényi network.\n",
    "How do you choose the probability parameter this time? \n",
    "\n",
    "Hint: Recall the expected giant component size from the lectures."
   ]
  },
  {
   "cell_type": "code",
   "execution_count": null,
   "metadata": {},
   "outputs": [],
   "source": [
    "p_new = # Your code here.\n",
    "G_er_new = nx.erdos_renyi_graph(n,p_new)"
   ]
  },
  {
   "cell_type": "markdown",
   "metadata": {},
   "source": [
    "Check the size of the new Erdős–Rényi network and its giant component."
   ]
  },
  {
   "cell_type": "code",
   "execution_count": null,
   "metadata": {},
   "outputs": [],
   "source": [
    "print('My new Erdos Renyi network to simulate citation graph has {} edges.'.format(G_er_new.size()))\n",
    "giant_er_new = # Your code here.\n",
    "print('The giant component of the new Erdos-Rényi network has {} nodes and {} edges.'.format(giant_er_new.number_of_nodes(), giant_er_new.size()))"
   ]
  },
  {
   "cell_type": "markdown",
   "metadata": {},
   "source": [
    "### Question : Degree Distributions"
   ]
  },
  {
   "cell_type": "markdown",
   "metadata": {},
   "source": [
    "You already plotted the degree distribution of the citation and feature graph in the first section. Now, plot the degree distribution historgrams for the simulated networks."
   ]
  },
  {
   "cell_type": "code",
   "execution_count": null,
   "metadata": {},
   "outputs": [],
   "source": [
    "plt.figure(figsize=(20,6))\n",
    "plt.subplot(131)\n",
    "plt.title('Erdos-Rényi network')\n",
    "er_degrees = # Your code here.\n",
    "plt.hist(er_degrees);\n",
    "plt.subplot(132)\n",
    "plt.title('Barabási-Albert network')\n",
    "ba_degrees = # Your code here.\n",
    "plt.hist(ba_degrees);\n",
    "plt.subplot(133)\n",
    "plt.title('new Erdos-Rényi network')\n",
    "er_new_degrees = # Your code here.\n",
    "plt.hist(er_new_degrees);"
   ]
  },
  {
   "cell_type": "markdown",
   "metadata": {},
   "source": [
    "In terms of the degree distribution, is there a good match between original citation and feature graph and the simulated networks? For the citation graph, choose one of the simulated networks above that matches its degree distribution at best. Indicate your preference below:"
   ]
  },
  {
   "cell_type": "markdown",
   "metadata": {},
   "source": [
    "**Your answer here:**"
   ]
  },
  {
   "cell_type": "markdown",
   "metadata": {},
   "source": [
    "You can also simulate a network using the configuration model to match its degree disctribution exactly. Refer to [Configuration model](https://networkx.github.io/documentation/stable/reference/generated/networkx.generators.degree_seq.configuration_model.html#networkx.generators.degree_seq.configuration_model).\n",
    "\n",
    "Let us create another network to match the degree distribution of the feature graph. "
   ]
  },
  {
   "cell_type": "code",
   "execution_count": null,
   "metadata": {},
   "outputs": [],
   "source": [
    "feature_degrees = # Your code here.\n",
    "G_config = nx.configuration_model(feature_degrees) \n",
    "print('Configuration model has {} nodes and {} edges.'.format(G_config.number_of_nodes(), G_config.size()))"
   ]
  },
  {
   "cell_type": "markdown",
   "metadata": {},
   "source": [
    "Does it mean that we create the same graph with the feature graph by the configuration model? If not, how do you understand that they are not the same?"
   ]
  },
  {
   "cell_type": "markdown",
   "metadata": {},
   "source": [
    "**Your answer here:**"
   ]
  },
  {
   "cell_type": "markdown",
   "metadata": {},
   "source": [
    "### Question :  Clustering Coefficient"
   ]
  },
  {
   "cell_type": "markdown",
   "metadata": {},
   "source": [
    "Let us check the average clustering coefficient of the original citation and feature graphs. "
   ]
  },
  {
   "cell_type": "code",
   "execution_count": null,
   "metadata": {},
   "outputs": [],
   "source": [
    "nx.average_clustering(G_citation)"
   ]
  },
  {
   "cell_type": "code",
   "execution_count": null,
   "metadata": {},
   "outputs": [],
   "source": [
    "nx.average_clustering(G_feature)"
   ]
  },
  {
   "cell_type": "markdown",
   "metadata": {},
   "source": [
    "What does the clustering coefficient tell us about a network? Comment on the values you obtain for the citation and feature graph."
   ]
  },
  {
   "cell_type": "markdown",
   "metadata": {},
   "source": [
    "**Your answer here:**"
   ]
  },
  {
   "cell_type": "markdown",
   "metadata": {},
   "source": [
    "Now, let us check the average clustering coefficient for the simulated networks."
   ]
  },
  {
   "cell_type": "code",
   "execution_count": null,
   "metadata": {},
   "outputs": [],
   "source": [
    "nx.average_clustering(G_er)"
   ]
  },
  {
   "cell_type": "code",
   "execution_count": null,
   "metadata": {},
   "outputs": [],
   "source": [
    "nx.average_clustering(G_ba)"
   ]
  },
  {
   "cell_type": "code",
   "execution_count": null,
   "metadata": {},
   "outputs": [],
   "source": [
    "nx.average_clustering(nx.Graph(G_config))"
   ]
  },
  {
   "cell_type": "markdown",
   "metadata": {},
   "source": [
    "Comment on the values you obtain for the simulated networks. Is there any good match to the citation or feature graph in terms of clustering coefficient?"
   ]
  },
  {
   "cell_type": "markdown",
   "metadata": {},
   "source": [
    "**Your answer here:**"
   ]
  },
  {
   "cell_type": "markdown",
   "metadata": {},
   "source": [
    "Check the other [network model generators](https://networkx.github.io/documentation/networkx-1.10/reference/generators.html) provided by NetworkX. Which one do you predict to have a better match to the citation graph and the feature graph in terms of degree distribution and clustering coefficient at the same time? Justify your answer."
   ]
  },
  {
   "cell_type": "markdown",
   "metadata": {},
   "source": [
    "**Your answer here:**"
   ]
  },
  {
   "cell_type": "markdown",
   "metadata": {},
   "source": [
    "If you find other network models, create at most one graph object for the citation and one for feature graph below. Print the number of edges and the average clustering coefficient. Plot the histogram of the degree distributions. Comment on the similaries. "
   ]
  },
  {
   "cell_type": "code",
   "execution_count": null,
   "metadata": {},
   "outputs": [],
   "source": [
    "# Your code here."
   ]
  },
  {
   "cell_type": "markdown",
   "metadata": {},
   "source": [
    "**Your answer here:**"
   ]
  }
 ],
 "metadata": {
  "kernelspec": {
   "display_name": "Python 3",
   "language": "python",
   "name": "python3"
  },
  "language_info": {
   "codemirror_mode": {
    "name": "ipython",
    "version": 3
   },
   "file_extension": ".py",
   "mimetype": "text/x-python",
   "name": "python",
   "nbconvert_exporter": "python",
   "pygments_lexer": "ipython3",
   "version": "3.7.3"
  }
 },
 "nbformat": 4,
 "nbformat_minor": 2
}
