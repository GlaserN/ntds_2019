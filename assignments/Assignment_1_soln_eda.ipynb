{
 "cells": [
  {
   "cell_type": "markdown",
   "metadata": {},
   "source": [
    "# NTDS 2019 : Assignment 1\n"
   ]
  },
  {
   "cell_type": "markdown",
   "metadata": {},
   "source": [
    "[Eda Bayram,](https://lts4.epfl.ch/bayram) [EPFL](http://epfl.ch) [LTS4,](http://lts4.epfl.ch)\n",
    "Nikolaos Karalias, [EPFL](http://epfl.ch) [LTS2](http://lts2.epfl.ch)"
   ]
  },
  {
   "cell_type": "markdown",
   "metadata": {},
   "source": [
    "## Students\n",
    "Team: `<your team number>`"
   ]
  },
  {
   "cell_type": "markdown",
   "metadata": {},
   "source": [
    "## Rules\n",
    "\n",
    "* The first deadline is for individual submission, the second one is for the team submission. No collaboration between teams is allowed.\n",
    "* All team members will receive the same grade for the assignment regarding the solution they submit on the latter deadline.\n",
    "* However, a team is allowed to ask for individual grading, which will regard the solution submitted on the former deadline.\n",
    "* Textual answers shall be short. Typically one to two sentences.\n",
    "* Code has to be clean.\n",
    "* In the first and second section, the libraries to be used are given and you cannot import any other library than those. You cannot use Networkx in the first section.\n",
    "* When submitting, the notebook is executed and the results are stored. I.e., if you open the notebook again it should show numerical results and plots. We won't be able to execute your notebooks.\n",
    "* The notebook is re-executed from a blank state before submission. That is to be sure it is reproducible. You can click \"Kernel\" then \"Restart & Run All\" in Jupyter."
   ]
  },
  {
   "cell_type": "markdown",
   "metadata": {},
   "source": [
    "# Objective "
   ]
  },
  {
   "cell_type": "markdown",
   "metadata": {},
   "source": [
    "The purpose of this milestone is to explore a given dataset, represent it by network by constructing different graphs. In the first section, you will analyze the network properties. In the second section, you will explore various network models and find out the network model fitting the ones you construct from the dataset."
   ]
  },
  {
   "cell_type": "markdown",
   "metadata": {},
   "source": [
    "# Dataset : Cora Dataset\n",
    "\n",
    "The [Cora dataset](https://linqs.soe.ucsc.edu/node/236) consists of scientific publications classified into one of seven research fields. \n",
    "\n",
    "* **Citation graph** The citation network can be constructed from the connections given in `cora.cites` file. \n",
    "* **Feature graph** Each publication in the dataset is described by a 0/1-valued word vector indicating the absence/presence of the corresponding word from the dictionary and its research field, given in `cora.content` file. The dictionary consists of 1433 unique words. A feature graph can be constructed regarding the Euclidean distance between the feature vector of the publications.\n",
    "\n",
    "The [`README`](data/cora/README) provides details about the content of the files."
   ]
  },
  {
   "cell_type": "markdown",
   "metadata": {},
   "source": [
    "# Section 1 : Network Properties"
   ]
  },
  {
   "cell_type": "code",
   "execution_count": null,
   "metadata": {},
   "outputs": [],
   "source": [
    "import numpy as np\n",
    "import pandas as pd\n",
    "import matplotlib.pyplot as plt\n",
    "\n",
    "%matplotlib inline"
   ]
  },
  {
   "cell_type": "markdown",
   "metadata": {},
   "source": [
    "### Question  1: Construct a Citation Graph and a Feature Graph"
   ]
  },
  {
   "cell_type": "markdown",
   "metadata": {},
   "source": [
    "Read the cora.content file into a `Pandas` data frame by setting a header for the column names. Check `README` file."
   ]
  },
  {
   "cell_type": "code",
   "execution_count": null,
   "metadata": {},
   "outputs": [],
   "source": [
    "feature_list = list(range(1,1434))\n",
    "column_list = ['paper_id'] + feature_list + ['class_label'] # Your code here.\n",
    "pd_content = pd.read_csv('data/cora/cora.content', delimiter='\\t', names=column_list) \n",
    "pd_content.head()"
   ]
  },
  {
   "cell_type": "markdown",
   "metadata": {},
   "source": [
    "Print out the number of papers contained in each of the reasearch fields.\n",
    "\n",
    "**Hint:** You can use `value_counts()` function from `Pandas`."
   ]
  },
  {
   "cell_type": "code",
   "execution_count": null,
   "metadata": {},
   "outputs": [],
   "source": [
    "pd_content['class_label'].value_counts() # Your code here."
   ]
  },
  {
   "cell_type": "markdown",
   "metadata": {},
   "source": [
    "Let $D$ be the Euclidean distance matrix whose $(i,j)$ entry corresponds to the Euclidean distance between feature vectors $i$ and $j$.\n",
    "Using the feature vectors of the papers from the field which you have selected, construct $D$ as a `Numpy` array. "
   ]
  },
  {
   "cell_type": "markdown",
   "metadata": {},
   "source": [
    "Select all papers from a field of your choice and store their IDsextract their feature vectors into a `numpy` array and check its shape."
   ]
  },
  {
   "cell_type": "code",
   "execution_count": null,
   "metadata": {},
   "outputs": [],
   "source": [
    "my_field = \"Neural_Networks\" # Your code here.\n",
    "pd_field = pd_content[pd_content['class_label'] == my_field]\n",
    "features = pd_field.as_matrix(feature_list) # Your code here.\n",
    "features.shape"
   ]
  },
  {
   "cell_type": "code",
   "execution_count": null,
   "metadata": {},
   "outputs": [],
   "source": [
    "one = np.ones(features.shape[0])\n",
    "ker = np.matmul(features, features.T)\n",
    "diagonal = np.diag(ker)\n",
    "distance = np.sqrt(np.outer(diagonal, one) - 2*ker + np.outer(one,diagonal)) # Your code here.\n",
    "distance.shape"
   ]
  },
  {
   "cell_type": "markdown",
   "metadata": {},
   "source": [
    "Check the mean pairwise distance $\\mathbb{E}[D]$."
   ]
  },
  {
   "cell_type": "code",
   "execution_count": null,
   "metadata": {},
   "outputs": [],
   "source": [
    "mean_distance = distance.mean()\n",
    "mean_distance"
   ]
  },
  {
   "cell_type": "markdown",
   "metadata": {},
   "source": [
    "Plot the histogram of the euclidean distances."
   ]
  },
  {
   "cell_type": "code",
   "execution_count": null,
   "metadata": {},
   "outputs": [],
   "source": [
    "plt.figure(1, figsize=(8,4))\n",
    "plt.title(\"Histogram of euclidean distances between papers\")\n",
    "plt.hist(distance.reshape(-1));"
   ]
  },
  {
   "cell_type": "markdown",
   "metadata": {},
   "source": [
    "Now create an adjacency matrix for the papers by thresholding the Euclidean distance matrix.\n",
    "The resulting (unweighted) adjacency matrix should have entries: $ A_{ij} = \\begin{cases} 1, \\; \\text{if} \\; d(i,j)< \\mathbb{E}[D], \\; i \\neq j \\\\ 0, \\; \\text{otherwise.} \\end{cases}$\n",
    "\n",
    "First, let us choose the mean distance as the threshold."
   ]
  },
  {
   "cell_type": "code",
   "execution_count": null,
   "metadata": {},
   "outputs": [],
   "source": [
    "threshold = mean_distance\n",
    "A_feature = (distance < threshold).astype(float) - np.eye(distance.shape[0]) # Your code here."
   ]
  },
  {
   "cell_type": "markdown",
   "metadata": {},
   "source": [
    "Now read the `cora.cites` file and construct the citation graph by converting the given citation connections into an adjacency matrix. "
   ]
  },
  {
   "cell_type": "code",
   "execution_count": null,
   "metadata": {},
   "outputs": [],
   "source": [
    "cora_cites = np.genfromtxt('data/cora/cora.cites', delimiter='\\t')\n",
    "#get graph edges and flatten them for processing\n",
    "edges = cora_cites.astype(int)\n",
    "edges = edges.flatten()\n",
    "\n",
    "\n",
    "#get adjacency matrix from edge_list\n",
    "newedge = pd.factorize(edges)[0]\n",
    "new_edge_list = newedge.reshape(-1,2)\n",
    "dim = max(newedge) + 1\n",
    "adjmat = np.zeros((dim,dim))\n",
    "adjmat[new_edge_list[:,0],new_edge_list[:,1]] = 1\n",
    "\n",
    "#caution, matrix is not symmetric at this point \n",
    "A_citation = adjmat # Your code here\n",
    "A_citation.shape"
   ]
  },
  {
   "cell_type": "code",
   "execution_count": null,
   "metadata": {},
   "outputs": [],
   "source": [
    "A_citation.shape"
   ]
  },
  {
   "cell_type": "markdown",
   "metadata": {},
   "source": [
    "Get the adjacency matrix of the citation graph for the field that you choose. You have to appropriately reduce the adjacency matrix of the citation graph."
   ]
  },
  {
   "cell_type": "code",
   "execution_count": null,
   "metadata": {},
   "outputs": [],
   "source": [
    "#map the paper ids from the selected community to the relabeled ones\n",
    "nodemap = dict(zip(edges, newedge))\n",
    "\n",
    "community_nodes = [nodemap[i] for i in pd_field.paper_id]\n",
    "\n",
    "community_adj = A_citation[community_nodes,:]\n",
    "community_adj = community_adj[:,community_nodes] # Your code here."
   ]
  },
  {
   "cell_type": "markdown",
   "metadata": {},
   "source": [
    "Check if your adjacency matrix is symmetric. Symmetrize your final adjacency matrix if it's not already symmetric."
   ]
  },
  {
   "cell_type": "code",
   "execution_count": null,
   "metadata": {},
   "outputs": [],
   "source": [
    "A_citation = community_adj + community_adj.T\n",
    "np.nonzero(A_citation-A_citation.transpose())"
   ]
  },
  {
   "cell_type": "markdown",
   "metadata": {},
   "source": [
    "Check the shape of your adjacency matrix again."
   ]
  },
  {
   "cell_type": "code",
   "execution_count": null,
   "metadata": {},
   "outputs": [],
   "source": [
    "A_citation.shape"
   ]
  },
  {
   "cell_type": "markdown",
   "metadata": {},
   "source": [
    "### Question 2: Degree Distribution and Moments\n"
   ]
  },
  {
   "cell_type": "markdown",
   "metadata": {},
   "source": [
    "What is the total number of edges in each graph?"
   ]
  },
  {
   "cell_type": "code",
   "execution_count": null,
   "metadata": {},
   "outputs": [],
   "source": [
    "num_edges_feature = A_feature.sum()/2 # Your code here.\n",
    "num_edges_citation = A_citation.sum()/2 # Your code here.\n",
    "print(\"Number of edges in the feature graph: \", num_edges_feature)\n",
    "print(\"Number of edges in the citation graph: \", num_edges_citation)"
   ]
  },
  {
   "cell_type": "markdown",
   "metadata": {},
   "source": [
    "Plot the degree distribution histogram for each of the graphs."
   ]
  },
  {
   "cell_type": "code",
   "execution_count": null,
   "metadata": {},
   "outputs": [],
   "source": [
    "degrees_citation = A_citation.sum(1) # Your code here.\n",
    "degrees_feature = A_feature.sum(1) # Your code here.\n",
    "\n",
    "deg_hist_normalization = np.ones(degrees_citation.shape[0])/degrees_citation.shape[0]\n",
    "\n",
    "plt.figure(figsize=(16,4))\n",
    "plt.subplot(131)\n",
    "plt.title('Citation graph degree distribution')\n",
    "plt.hist(degrees_citation, weights = deg_hist_normalization);\n",
    "plt.subplot(132)\n",
    "plt.title('Feature graph degree distribution')\n",
    "plt.hist(degrees_feature, weights = deg_hist_normalization);"
   ]
  },
  {
   "cell_type": "markdown",
   "metadata": {},
   "source": [
    "Calculate the first and second moments of the degree distribution of each graph."
   ]
  },
  {
   "cell_type": "code",
   "execution_count": null,
   "metadata": {},
   "outputs": [],
   "source": [
    "degfs, counts_feat = np.unique(degrees_feature,return_counts=True)\n",
    "degcs, counts_cit = np.unique(degrees_citation,return_counts=True)\n",
    "\n",
    "\n",
    "degfeatprobs = counts_feat/counts_feat.sum()\n",
    "degcitprobs = counts_cit/counts_cit.sum()\n",
    "\n",
    "cit_moment_1 = (degcs*degcitprobs).sum() # Your code here.\n",
    "cit_moment_2 = (degcs*degcs*degcitprobs).sum() # Your code here.\n",
    "\n",
    "feat_moment_1 = (degfs*degfeatprobs).sum() # Your code here.\n",
    "feat_moment_2 = (degfs*degfs*degfeatprobs).sum() # Your code here.\n",
    "\n",
    "print(\"1st moment of citation graph: \", (cit_moment_1))\n",
    "print(\"2nd moment of citation graph: \", (cit_moment_2))\n",
    "print(\"1st moment of feature graph: \", (feat_moment_1))\n",
    "print(\"2nd moment of feature graph: \", (feat_moment_2))"
   ]
  },
  {
   "cell_type": "markdown",
   "metadata": {},
   "source": [
    "What information do the moments provide you about the graphs?\n",
    "Explain the differences in moments between graphs by comparing their degree distributions."
   ]
  },
  {
   "cell_type": "markdown",
   "metadata": {},
   "source": [
    "**Your answer here:** \n",
    "The first moment of the graph gives us the average degree.\n",
    "The second moment gives us the variance of the degree distribution.\n",
    "\n",
    "The citation graph is significantly sparser (recall the number of edges from the previous step). This leads to a sharp spike at low/zero degree nodes and therefore explains the value of the first moment for that graph compared to the second.\n",
    "\n",
    "For the feature graph we observe from the degree histogram that the tails of the distribution carry a considerable amount of probability density. Notice for example how degree 175 appears more likely than degree 100 even though it's much further from the mean.\n",
    "This explains the large variance of the second moment and why it is so much larger than the variance of the citation graph which has a much thinner tail."
   ]
  },
  {
   "cell_type": "markdown",
   "metadata": {},
   "source": [
    "Select the 20 largest hubs for each of the graphs and remove them. Observe the sparsity pattern of the adjacency matrices of the citation and feature graphs before and after such a reduction."
   ]
  },
  {
   "cell_type": "code",
   "execution_count": null,
   "metadata": {},
   "outputs": [],
   "source": [
    "#get degrees of the new unordered one\n",
    "removed_feat = np.argsort(degrees_feature)[:-20]\n",
    "removed_cite = np.argsort(degrees_citation)[:-20]\n",
    "\n",
    "reduced_A_feature = A_feature[removed_feat,:]\n",
    "reduced_A_feature = reduced_A_feature[:,removed_feat] # Your code here\n",
    "\n",
    "reduced_A_citation = A_citation[removed_cite,:]\n",
    "reduced_A_citation = reduced_A_citation[:, removed_cite] # Your code here\n",
    "\n",
    "\n",
    "plt.figure(1, figsize=(16,8))\n",
    "plt.subplot(121)\n",
    "plt.title('Feature graph: adjacency matrix sparsity pattern')\n",
    "plt.spy(A_feature);\n",
    "plt.subplot(122)\n",
    "plt.title('Feature graph without top 20 hubs: adjacency matrix sparsity pattern')\n",
    "plt.spy(reduced_A_feature);\n",
    "\n",
    "\n",
    "plt.figure(2, figsize=(16,8))\n",
    "plt.subplot(121)\n",
    "plt.title('Citation graph: Adjacency matrix sparsity pattern')\n",
    "plt.spy(A_citation);\n",
    "plt.subplot(122)\n",
    "plt.title('Citation graph without top 20 hubs: Adjacency matrix sparsity pattern')\n",
    "plt.spy(reduced_A_citation);"
   ]
  },
  {
   "cell_type": "markdown",
   "metadata": {},
   "source": [
    "Plot the new degree distribution histograms."
   ]
  },
  {
   "cell_type": "code",
   "execution_count": null,
   "metadata": {},
   "outputs": [],
   "source": [
    "reduced_degrees_feat = reduced_A_feature.sum(1) # Your code here.\n",
    "reduced_degrees_cit = reduced_A_citation.sum(1) # Your code here.\n",
    "\n",
    "deg_hist_normalization = np.ones(reduced_degrees_feat.shape[0])/reduced_degrees_feat.shape[0]\n",
    "\n",
    "plt.figure(3,figsize=(16,4))\n",
    "plt.subplot(121)\n",
    "plt.title('Feature graph degree distribution')\n",
    "plt.hist(reduced_degrees_feat, weights = deg_hist_normalization);\n",
    "plt.subplot(122)\n",
    "plt.title('Citation graph degree distribution')\n",
    "plt.hist(reduced_degrees_cit, weights = deg_hist_normalization);"
   ]
  },
  {
   "cell_type": "markdown",
   "metadata": {},
   "source": [
    "Compute the first and second moments for the new graphs."
   ]
  },
  {
   "cell_type": "code",
   "execution_count": null,
   "metadata": {},
   "outputs": [],
   "source": [
    "reduced_degfs, reduced_counts_feat = np.unique(reduced_degrees_feat,return_counts=True)\n",
    "reduced_degns, reduced_counts_net = np.unique(reduced_degrees_cit,return_counts=True)\n",
    "\n",
    "\n",
    "reduced_degfeatprobs = reduced_counts_feat/reduced_counts_feat.sum()\n",
    "reduced_degnetprobs = reduced_counts_net/reduced_counts_net.sum()\n",
    "\n",
    "\n",
    "#Calculate the 1st and 2nd moments of each graph. Explain the differences.\n",
    "\n",
    "\n",
    "reduced_cit_moment_1 = (reduced_degns*reduced_degnetprobs).sum() # Your code here.\n",
    "reduced_cit_moment_2 = (reduced_degns*reduced_degns*reduced_degnetprobs).sum() # Your code here.\n",
    "\n",
    "reduced_feat_moment_1 = (reduced_degfs*reduced_degfeatprobs).sum() # Your code here.\n",
    "reduced_feat_moment_2 = (reduced_degfs*reduced_degfs*reduced_degfeatprobs).sum() # Your code here.\n",
    "\n",
    "\n",
    "print(\"Citation graph first moment:\", reduced_cit_moment_1)\n",
    "print(\"Citation graph second moment:\", reduced_cit_moment_2)\n",
    "print(\"Feature graph first moment: \", reduced_feat_moment_1)\n",
    "print(\"Feature graph second moment: \", reduced_feat_moment_2)"
   ]
  },
  {
   "cell_type": "markdown",
   "metadata": {},
   "source": [
    "Print the number of edges in the reduced graphs."
   ]
  },
  {
   "cell_type": "code",
   "execution_count": null,
   "metadata": {},
   "outputs": [],
   "source": [
    "print(\"Feat graph edges\", reduced_A_feature.sum()/2) # Your code here\n",
    "print(\"Citation graph edges\", reduced_A_citation.sum()/2)"
   ]
  },
  {
   "cell_type": "markdown",
   "metadata": {},
   "source": [
    "Is the effect of removing the hubs the same for both networks? Look at the percentage changes for each moment. Which of the moments is affected the most and in which graph? Explain why.  \n",
    "\n",
    "**Hint:** Examine the degree distributions."
   ]
  },
  {
   "cell_type": "markdown",
   "metadata": {},
   "source": [
    "**Your answer here:** While the 1st moment is shifted to roughly half of its original value in both cases, the variance of the citation graph seems to be the one most significantly affected. \n",
    "\n",
    "Before removing the hubs the highest degree was around 25, with an average degree of 2.833. After removing the hubs the highest degree is around 4 with an average degree 1.412. For the feature graph, the highest degree was around 175 with an average of 64.766. Now the average degree is 34.1875 and the highest degree around 100 with a quite high probability as well. \n",
    "\n",
    "The shrinking of the citation graph 2nd moment can be attributed to the fact that its degree distribution is thin-tailed. Thus, the effect of removing hubs becomes more pronounced there. "
   ]
  },
  {
   "cell_type": "markdown",
   "metadata": {},
   "source": [
    "### Question 3: Pruning, sparsity,  paths"
   ]
  },
  {
   "cell_type": "markdown",
   "metadata": {},
   "source": [
    "By adjusting the threshold of the euclidean distance matrix, prune the feature graph so that its number of edges is roughly close (within a hundred edges) to the number of edges in the citation graph."
   ]
  },
  {
   "cell_type": "code",
   "execution_count": null,
   "metadata": {},
   "outputs": [],
   "source": [
    "threshold = 2.83 # Your code here.\n",
    "\n",
    "A_feature_pruned = (distance < threshold).astype(float) -np.eye(distance.shape[0]) # Your code here\n",
    "num_edges_feature_pruned = A_feature_pruned .sum()/2  # Your code here.\n",
    "\n",
    "print(\"Number of edges in the feature graph: \", (num_edges_feature))\n",
    "print(\"Number of edges in the feature graph after pruning: \", (num_edges_feature_pruned))\n",
    "print(\"Number of edges in the citation graph: \", num_edges_citation)"
   ]
  },
  {
   "cell_type": "markdown",
   "metadata": {},
   "source": [
    "Check your results by comparing the sparsity patterns and total number of edges between the graphs."
   ]
  },
  {
   "cell_type": "code",
   "execution_count": null,
   "metadata": {},
   "outputs": [],
   "source": [
    "plt.figure(figsize=(12,6))\n",
    "plt.subplot(121)\n",
    "plt.title('Citation graph sparsity')\n",
    "plt.spy(A_citation);\n",
    "plt.subplot(122)\n",
    "plt.title('Feature graph sparsity')\n",
    "plt.spy(A_feature_pruned);"
   ]
  },
  {
   "cell_type": "markdown",
   "metadata": {},
   "source": [
    "Let $C_{k}(i,j)$ denote the number of paths of length $k$ from node $i$ to node $j$. \n",
    "\n",
    "We define the path matrix $P$, with entries:\n",
    "$ P_{ij} = \\displaystyle\\sum_{k=0}^{N}C_{k}(i,j) $"
   ]
  },
  {
   "cell_type": "markdown",
   "metadata": {},
   "source": [
    "Calculate the path matrices for both the citation and the unpruned feature graphs for $N =10$.  \n",
    "**Hint:** Use [the powers of adjacency matrix](https://en.wikipedia.org/wiki/Adjacency_matrix#Matrix_powers)."
   ]
  },
  {
   "cell_type": "code",
   "execution_count": null,
   "metadata": {},
   "outputs": [],
   "source": [
    "path_lengths = range(11)\n",
    "\n",
    "\n",
    "path_matrix_citation = sum([np.linalg.matrix_power(A_citation, k) for k in path_lengths]) # Your code here.\n",
    "path_matrix_feature = sum([np.linalg.matrix_power(A_feature, k) for k in path_lengths]) # Your code here."
   ]
  },
  {
   "cell_type": "markdown",
   "metadata": {},
   "source": [
    "Check the sparsity pattern for both of path matrices."
   ]
  },
  {
   "cell_type": "code",
   "execution_count": null,
   "metadata": {},
   "outputs": [],
   "source": [
    "plt.figure(figsize=(16,9))\n",
    "plt.subplot(121)\n",
    "plt.title('Citation Path matrix sparsity')\n",
    "plt.spy(path_matrix_citation);\n",
    "plt.subplot(122)\n",
    "plt.title('Feature Path matrix sparsity')\n",
    "plt.spy(path_matrix_feature);"
   ]
  },
  {
   "cell_type": "markdown",
   "metadata": {},
   "source": [
    "Now calculate the path matrix of the pruned feature graph for $N=10$. Plot the corresponding sparsity pattern. Is there any difference?"
   ]
  },
  {
   "cell_type": "code",
   "execution_count": null,
   "metadata": {},
   "outputs": [],
   "source": [
    "path_matrix_pruned = sum([np.linalg.matrix_power(A_feature_pruned, k) for k in path_lengths]) # Your code here.\n",
    "\n",
    "plt.figure(figsize=(12,6))\n",
    "plt.title('Feature Path matrix sparsity')\n",
    "plt.spy(path_matrix_pruned);"
   ]
  },
  {
   "cell_type": "markdown",
   "metadata": {},
   "source": [
    "**Your answer here:** Yes, the path matrix for the unpruned graph doesn't have zero entries while the one for the pruned graph does."
   ]
  },
  {
   "cell_type": "markdown",
   "metadata": {},
   "source": [
    "Describe how you can use the above process of counting paths to determine whether a graph is connected or not. Is the original (unpruned) feature graph connected?"
   ]
  },
  {
   "cell_type": "markdown",
   "metadata": {},
   "source": [
    "**Your answer here:** The maximum hop distance between any two nodes in a graph can be on the order of the number of nodes. The [path graph](https://en.wikipedia.org/wiki/Path_graph) is the worst case where one has to traverse all the nodes to get from one endpoint node to the other. By calculating the path matrix for all lengths up to N, where N is the total number of nodes, one expects all the matrix entries to be nonzero, since there will be at least 1 path from all nodes to all other nodes. However, if the graph is not connected, then the path matrix will have zero entries since a subset of nodes will be unreachable by other nodes regardless of the path lengths we consider.\n",
    "Since the path matrix for the unpruned graph has no zero entries it means that the graph is connected."
   ]
  },
  {
   "cell_type": "markdown",
   "metadata": {},
   "source": [
    "If the graph is connected, how can you guess its diameter using the path matrix?"
   ]
  },
  {
   "cell_type": "markdown",
   "metadata": {},
   "source": [
    "**Your answer here:** You can guess the diameter by finding the path length k at which the path matrix has no zero entries for the first time. Up until that point there will be an entry (i,j) where no paths from i to j exist because the length of paths considered hasn't reached the diameter."
   ]
  },
  {
   "cell_type": "markdown",
   "metadata": {},
   "source": [
    "If any of your graphs is connected, calculate the diameter using that process."
   ]
  },
  {
   "cell_type": "code",
   "execution_count": null,
   "metadata": {},
   "outputs": [],
   "source": [
    "path_matrix = np.zeros((A_feature.shape[0],A_feature.shape[0]))\n",
    "for k in range(11):\n",
    "    path_matrix += np.linalg.matrix_power(A_feature, k)\n",
    "    if (path_matrix==0).sum()==0:\n",
    "        break    \n",
    "\n",
    "diameter = k# Your code here.\n",
    "print(\"The diameter is: \", diameter)"
   ]
  },
  {
   "cell_type": "markdown",
   "metadata": {},
   "source": [
    "Check if your guess was correct using [NetworkX](https://networkx.github.io/documentation/networkx-1.10/reference/generated/networkx.algorithms.distance_measures.diameter.html).\n",
    "\n",
    "Note: Usage of NetworkX is allowed only in this part of Section 1."
   ]
  },
  {
   "cell_type": "code",
   "execution_count": null,
   "metadata": {},
   "outputs": [],
   "source": [
    "from networkx import nx\n",
    "feature_graph = nx.from_numpy_matrix(A_feature)\n",
    "print(\"Diameter according to networkx: \", nx.diameter(feature_graph))"
   ]
  },
  {
   "cell_type": "markdown",
   "metadata": {},
   "source": [
    "# Section 2 : Network Models"
   ]
  },
  {
   "cell_type": "markdown",
   "metadata": {},
   "source": [
    "In this section, you will analyze the feature graph and citation graph you constructed in the previous section in terms of the network model types. For this purpose, you can use NetworkX libary imported below."
   ]
  },
  {
   "cell_type": "code",
   "execution_count": null,
   "metadata": {},
   "outputs": [],
   "source": [
    "import networkx as nx\n",
    "import warnings\n",
    "warnings.simplefilter(\"ignore\")"
   ]
  },
  {
   "cell_type": "markdown",
   "metadata": {},
   "source": [
    "Let us create NetworkX graph objects from the adjacency matrices computed in the previous section."
   ]
  },
  {
   "cell_type": "code",
   "execution_count": null,
   "metadata": {},
   "outputs": [],
   "source": [
    "G_citation = nx.from_numpy_matrix(A_citation)\n",
    "print('Number of nodes: {}, Number of edges: {}'. format(G_citation.number_of_nodes(), G_citation.number_of_edges()))\n",
    "print('Number of self-loops: {}, Number of connected components: {}'. format(G_citation.number_of_selfloops(), nx.number_connected_components(G_citation)))"
   ]
  },
  {
   "cell_type": "markdown",
   "metadata": {},
   "source": [
    "In the rest of this assignment, we will consider the pruned feature graph as the feature network."
   ]
  },
  {
   "cell_type": "code",
   "execution_count": null,
   "metadata": {},
   "outputs": [],
   "source": [
    "G_feature = nx.from_numpy_matrix(A_feature_pruned)\n",
    "print('Number of nodes: {}, Number of edges: {}'. format(G_feature.number_of_nodes(), G_feature.number_of_edges()))\n",
    "print('Number of self-loops: {}, Number of connected components: {}'. format(G_feature.number_of_selfloops(), nx.number_connected_components(G_feature)))"
   ]
  },
  {
   "cell_type": "markdown",
   "metadata": {},
   "source": [
    "### Question 4: Simulation with Erdős–Rényi and Barabási–Albert model"
   ]
  },
  {
   "cell_type": "markdown",
   "metadata": {},
   "source": [
    "Create an Erdős–Rényi and a Barabási–Albert graph using NetworkX to simulate the citation graph and the feature graph you have. When choosing parameters for the networks, take into account the number of vertices and edges of the original networks."
   ]
  },
  {
   "cell_type": "markdown",
   "metadata": {},
   "source": [
    "The number of nodes should exactly match the number of nodes in the original citation/feature graph."
   ]
  },
  {
   "cell_type": "code",
   "execution_count": null,
   "metadata": {},
   "outputs": [],
   "source": [
    "n = len(G_citation.nodes())\n",
    "n"
   ]
  },
  {
   "cell_type": "markdown",
   "metadata": {},
   "source": [
    "The number of match shall fit the average of the number of edges in the citation and the feature graph."
   ]
  },
  {
   "cell_type": "code",
   "execution_count": null,
   "metadata": {},
   "outputs": [],
   "source": [
    "m = np.round((G_citation.size() + G_feature.size())/2)\n",
    "m"
   ]
  },
  {
   "cell_type": "markdown",
   "metadata": {},
   "source": [
    "How do you determine the probability parameter for the Erdős–Rényi graph?"
   ]
  },
  {
   "cell_type": "markdown",
   "metadata": {},
   "source": [
    "**Your answer here:** For the ER network, the expected number of edges is $$E[m] = pn(n-1)/2.$$"
   ]
  },
  {
   "cell_type": "code",
   "execution_count": null,
   "metadata": {},
   "outputs": [],
   "source": [
    "p = m*2/(n*(n-1)) # Your code here.\n",
    "G_er = nx.erdos_renyi_graph(n,p)"
   ]
  },
  {
   "cell_type": "markdown",
   "metadata": {},
   "source": [
    "Check the number of edges in the Erdős–Rényi graph."
   ]
  },
  {
   "cell_type": "code",
   "execution_count": null,
   "metadata": {},
   "outputs": [],
   "source": [
    "print('My Erdos-Rényi network to simulate citation graph has {} edges.'.format(G_er.size()))"
   ]
  },
  {
   "cell_type": "markdown",
   "metadata": {},
   "source": [
    "How do you determine the preferential attachement parameter for Barabási–Albert graphs?"
   ]
  },
  {
   "cell_type": "markdown",
   "metadata": {},
   "source": [
    "**Your answer here:** For the BA network, m is fixed to $$m = q*(n-q),$$ where $q$ is the model parameter."
   ]
  },
  {
   "cell_type": "code",
   "execution_count": null,
   "metadata": {},
   "outputs": [],
   "source": [
    "q = 2# Your code here.\n",
    "G_ba = nx.barabasi_albert_graph(n,q)"
   ]
  },
  {
   "cell_type": "markdown",
   "metadata": {},
   "source": [
    "Check the number of edges in the Barabási–Albert graph."
   ]
  },
  {
   "cell_type": "code",
   "execution_count": null,
   "metadata": {},
   "outputs": [],
   "source": [
    "print('My Barabási-Albert network to simulate citation graph has {} edges.'.format(G_ba.size()))"
   ]
  },
  {
   "cell_type": "markdown",
   "metadata": {},
   "source": [
    "### Question 5:  Giant component"
   ]
  },
  {
   "cell_type": "markdown",
   "metadata": {},
   "source": [
    "Check the size of the largest connected component in the citation and feature graph."
   ]
  },
  {
   "cell_type": "code",
   "execution_count": null,
   "metadata": {},
   "outputs": [],
   "source": [
    "giant_citation = max(nx.connected_component_subgraphs(G_citation), key=len) # Your code here.\n",
    "print('The giant component of the citation graph has {} nodes and {} edges.'.format(giant_citation.number_of_nodes(), giant_citation.size()))"
   ]
  },
  {
   "cell_type": "code",
   "execution_count": null,
   "metadata": {},
   "outputs": [],
   "source": [
    "giant_feature = max(nx.connected_component_subgraphs(G_feature), key=len) # Your code here.\n",
    "print('The giant component of the feature graph has {} nodes and {} edges.'.format(giant_feature.number_of_nodes(), giant_feature.size()))"
   ]
  },
  {
   "cell_type": "markdown",
   "metadata": {},
   "source": [
    "Check the size of the giant components in the generated Erdős–Rényi graph."
   ]
  },
  {
   "cell_type": "code",
   "execution_count": null,
   "metadata": {},
   "outputs": [],
   "source": [
    "giant_er = max(nx.connected_component_subgraphs(G_er), key=len) # Your code here.\n",
    "print('The giant component of the Erdos-Rényi network has {} nodes and {} edges.'.format(giant_er.number_of_nodes(), giant_er.size()))"
   ]
  },
  {
   "cell_type": "markdown",
   "metadata": {},
   "source": [
    "Let us match the number of nodes in the giant component of the feature graph by simulating a new Erdős–Rényi network.\n",
    "How do you choose the probability parameter this time? \n",
    "\n",
    "Hint: Recall the expected giant component size from the lectures."
   ]
  },
  {
   "cell_type": "markdown",
   "metadata": {},
   "source": [
    "**Your answer here:**  We know from the lectures that in Erdős–Rényi networks, the fraction of nodes in the giant component $$S = \\frac{N_G}{N}$$ grows with the average degree by $$S = 1 - e^{-\\langle k \\rangle S}.$$ Therefore, as $\\langle k \\rangle = (N-1)p$:"
   ]
  },
  {
   "cell_type": "code",
   "execution_count": null,
   "metadata": {},
   "outputs": [],
   "source": [
    "S = giant_feature.number_of_nodes()/ n\n",
    "p_new = - np.log(1-S)/ (S*(n-1)) # Your code here.\n",
    "G_er_new = nx.erdos_renyi_graph(n,p_new)"
   ]
  },
  {
   "cell_type": "markdown",
   "metadata": {},
   "source": [
    "Check the size of the new Erdős–Rényi network and its giant component."
   ]
  },
  {
   "cell_type": "code",
   "execution_count": null,
   "metadata": {},
   "outputs": [],
   "source": [
    "print('My new Erdos Renyi network to simulate citation graph has {} edges.'.format(G_er_new.size()))\n",
    "giant_er_new = max(nx.connected_component_subgraphs(G_er_new), key=len) # Your code here.\n",
    "print('The giant component of the new Erdos-Rényi network has {} nodes and {} edges.'.format(giant_er_new.number_of_nodes(), giant_er_new.size()))"
   ]
  },
  {
   "cell_type": "markdown",
   "metadata": {},
   "source": [
    "### Question 6: Degree Distributions"
   ]
  },
  {
   "cell_type": "markdown",
   "metadata": {},
   "source": [
    "Recall the degree distribution of the citation and the feature graph."
   ]
  },
  {
   "cell_type": "code",
   "execution_count": null,
   "metadata": {},
   "outputs": [],
   "source": [
    "plt.figure(figsize=(15,6))\n",
    "plt.subplot(121)\n",
    "plt.title('Citation graph')\n",
    "citation_degrees = list(G_citation.degree().values())# Your code here.\n",
    "plt.hist(citation_degrees);\n",
    "plt.subplot(122)\n",
    "plt.title('Feature graph')\n",
    "feature_degrees = list(G_feature.degree().values())# Your code here.\n",
    "plt.hist(feature_degrees);"
   ]
  },
  {
   "cell_type": "markdown",
   "metadata": {},
   "source": [
    "What does the degree distribution tell us about a network? Can you make a prediction on the network model type of the citation and the feature graph by looking at their degree distributions?"
   ]
  },
  {
   "cell_type": "markdown",
   "metadata": {},
   "source": [
    "**Your answe here:** The degree distribution may give us a hint about the formation pattern of a network, for example, a power-law degree distribution signifies a scale free network and a binomial distribution is outcome of a random network formation. For the feature and the citation graph, we observe a degree distribution close to a power-law distribution. Hence, we can predict that they might have a scale-free growth."
   ]
  },
  {
   "cell_type": "markdown",
   "metadata": {},
   "source": [
    "Now, plot the degree distribution historgrams for the simulated networks."
   ]
  },
  {
   "cell_type": "code",
   "execution_count": null,
   "metadata": {},
   "outputs": [],
   "source": [
    "plt.figure(figsize=(20,6))\n",
    "plt.subplot(131)\n",
    "plt.title('Erdos-Rényi network')\n",
    "er_degrees = G_er.degree().values()# Your code here.\n",
    "plt.hist(er_degrees);\n",
    "plt.subplot(132)\n",
    "plt.title('Barabási-Albert network')\n",
    "ba_degrees = G_ba.degree().values()# Your code here.\n",
    "plt.hist(ba_degrees);\n",
    "plt.subplot(133)\n",
    "plt.title('new Erdos-Rényi network')\n",
    "er_new_degrees = G_er_new.degree().values()# Your code here.\n",
    "plt.hist(er_new_degrees);"
   ]
  },
  {
   "cell_type": "markdown",
   "metadata": {},
   "source": [
    "In terms of the degree distribution, is there a good match between citation and feature graph and the simulated networks? For the citation graph, choose one of the simulated networks above that matches its degree distribution at best. Indicate your preference below:"
   ]
  },
  {
   "cell_type": "markdown",
   "metadata": {},
   "source": [
    "**Your answer here:** Degree distribution of the citation graph matches that of the Barabási-Albert network at best."
   ]
  },
  {
   "cell_type": "markdown",
   "metadata": {},
   "source": [
    "You can also simulate a network using the configuration model to match its degree disctribution exactly. Refer to [Configuration model](https://networkx.github.io/documentation/stable/reference/generated/networkx.generators.degree_seq.configuration_model.html#networkx.generators.degree_seq.configuration_model).\n",
    "\n",
    "Let us create another network to match the degree distribution of the feature graph. "
   ]
  },
  {
   "cell_type": "code",
   "execution_count": null,
   "metadata": {},
   "outputs": [],
   "source": [
    "G_config = nx.configuration_model(feature_degrees) \n",
    "print('Configuration model has {} nodes and {} edges.'.format(G_config.number_of_nodes(), G_config.size()))"
   ]
  },
  {
   "cell_type": "markdown",
   "metadata": {},
   "source": [
    "Does it mean that we create the same graph with the feature graph by the configuration model? If not, how do you understand that they are not the same?"
   ]
  },
  {
   "cell_type": "markdown",
   "metadata": {},
   "source": [
    "**Your answer here:** It does not mean considering the topology. We can prove that they are not the same graph simply by checking the number of connected components for example."
   ]
  },
  {
   "cell_type": "code",
   "execution_count": null,
   "metadata": {},
   "outputs": [],
   "source": [
    "nx.number_connected_components(G_config)"
   ]
  },
  {
   "cell_type": "markdown",
   "metadata": {},
   "source": [
    "### Question 7:  Clustering Coefficient"
   ]
  },
  {
   "cell_type": "markdown",
   "metadata": {},
   "source": [
    "Let us check the average clustering coefficient of the original citation and feature graphs. "
   ]
  },
  {
   "cell_type": "code",
   "execution_count": null,
   "metadata": {},
   "outputs": [],
   "source": [
    "nx.average_clustering(G_citation)"
   ]
  },
  {
   "cell_type": "code",
   "execution_count": null,
   "metadata": {},
   "outputs": [],
   "source": [
    "nx.average_clustering(G_feature)"
   ]
  },
  {
   "cell_type": "markdown",
   "metadata": {},
   "source": [
    "What does the clustering coefficient tell us about a network? Comment on the values you obtain for the citation and feature graph."
   ]
  },
  {
   "cell_type": "markdown",
   "metadata": {},
   "source": [
    "**Your answer here:** Clustering coefficient give us a measure about the connectivity pattern of a node to its neighbors and give us a hint about the network model. We obtain small values for a \"small-world\" network models since they are subject to unexpected wirings to some degree. Relatively large values are observed for the networks having more regular connectivity patterns. By looking at the the values obtained here, we can say that the clustering coeficients of the citation and feature graphs are as large as to show that they are not random."
   ]
  },
  {
   "cell_type": "markdown",
   "metadata": {},
   "source": [
    "Now, let us check the average clustering coefficient for the simulated networks."
   ]
  },
  {
   "cell_type": "code",
   "execution_count": null,
   "metadata": {},
   "outputs": [],
   "source": [
    "nx.average_clustering(G_er)"
   ]
  },
  {
   "cell_type": "code",
   "execution_count": null,
   "metadata": {},
   "outputs": [],
   "source": [
    "nx.average_clustering(G_ba)"
   ]
  },
  {
   "cell_type": "code",
   "execution_count": null,
   "metadata": {},
   "outputs": [],
   "source": [
    "nx.average_clustering(nx.Graph(G_config))"
   ]
  },
  {
   "cell_type": "markdown",
   "metadata": {},
   "source": [
    "Comment on the values you obtain for the simulated networks. Is there any good match to the citation or feature graph in terms of clustering coefficient?"
   ]
  },
  {
   "cell_type": "markdown",
   "metadata": {},
   "source": [
    "**Your answer here:** Since ER network is constructed totally random, it has a very small clustering coefficient. BA and configuration model might have relatively higher clustering coefficient yet not as high as the original graphs that we constructed from the dataset. It is probably because the original graphs have much more of a regular pattern than a BA network model."
   ]
  },
  {
   "cell_type": "markdown",
   "metadata": {},
   "source": [
    "Check the other [network model generators](https://networkx.github.io/documentation/networkx-1.10/reference/generators.html) provided by NetworkX. Which one do you predict to have a better match to the citation graph or the feature graph in terms of degree distribution and clustering coefficient at the same time? Justify your answer."
   ]
  },
  {
   "cell_type": "markdown",
   "metadata": {},
   "source": [
    "**Your answer here:** Our graphs display more regular patterns than a BA network considering the clustering coefficient, but still seem to have a power-law degree distribution considering the degree distributions. We can try clustered power-law graph, considering the sparsity pattern in the previous section."
   ]
  },
  {
   "cell_type": "markdown",
   "metadata": {},
   "source": [
    "If you find a better fit, create a graph object below for that network model. Print the number of edges and the average clustering coefficient. Plot the histogram of the degree distribution."
   ]
  },
  {
   "cell_type": "code",
   "execution_count": null,
   "metadata": {},
   "outputs": [],
   "source": [
    "q = 2 # preferential attachement (determines the number of edges)\n",
    "p = 0.2 # probability of triangle rewiring (determines regularity)\n",
    "G_pl = nx.powerlaw_cluster_graph(n,q,p)# Your code here.\n",
    "nx.average_clustering(G_pl)"
   ]
  },
  {
   "cell_type": "code",
   "execution_count": null,
   "metadata": {},
   "outputs": [],
   "source": [
    "G_pl.size()"
   ]
  },
  {
   "cell_type": "code",
   "execution_count": null,
   "metadata": {},
   "outputs": [],
   "source": [
    "plt.hist(G_pl.degree().values());"
   ]
  },
  {
   "cell_type": "markdown",
   "metadata": {},
   "source": [
    "Comment on the similarities."
   ]
  },
  {
   "cell_type": "markdown",
   "metadata": {},
   "source": [
    "**Your answer here:** BA network was a good fit in terms of degree distribution but it has a very small clustering coefficient due to its random wirings. Using the clustered power law model, we are able to obtain a graph with a higher clustering coefficient since the graph has a more regular connectivity pattern due to the clusters. Also, it still displays a power-law degree distribution."
   ]
  }
 ],
 "metadata": {
  "kernelspec": {
   "display_name": "Python 3",
   "language": "python",
   "name": "python3"
  },
  "language_info": {
   "codemirror_mode": {
    "name": "ipython",
    "version": 3
   },
   "file_extension": ".py",
   "mimetype": "text/x-python",
   "name": "python",
   "nbconvert_exporter": "python",
   "pygments_lexer": "ipython3",
   "version": "3.6.7"
  }
 },
 "nbformat": 4,
 "nbformat_minor": 2
}
